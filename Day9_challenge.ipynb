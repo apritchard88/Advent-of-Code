{
 "cells": [
  {
   "cell_type": "code",
   "execution_count": 2,
   "metadata": {},
   "outputs": [],
   "source": [
    "import pandas as pd\n",
    "import numpy as np\n",
    "from itertools import permutations"
   ]
  },
  {
   "cell_type": "markdown",
   "metadata": {},
   "source": [
    "For the first part of this problem, I have to calculate the sum of every combination of numbers in a list of 25, and see if the 26th number is in that list of sums. The function 'permutations' from the itertools package will be very helpful. First I will read all the numbers from the data file into a list of integers."
   ]
  },
  {
   "cell_type": "code",
   "execution_count": 51,
   "metadata": {},
   "outputs": [],
   "source": [
    "my_file = open(\"Day9_data.txt\",\"r\")\n",
    "data_list = []\n",
    "for line in my_file:\n",
    "    data_list.append(int(line.strip()))"
   ]
  },
  {
   "cell_type": "markdown",
   "metadata": {},
   "source": [
    "Now I will write a function to compute the list of sums of all combinations of pairs given a list of values, and return that list."
   ]
  },
  {
   "cell_type": "code",
   "execution_count": 52,
   "metadata": {},
   "outputs": [],
   "source": [
    "def getSumList(valList):\n",
    "    l = []\n",
    "    perm = permutations(valList, 2)\n",
    "    for pair in perm:\n",
    "        l.append(int(pair[0])+int(pair[1]))\n",
    "    return l"
   ]
  },
  {
   "cell_type": "markdown",
   "metadata": {},
   "source": [
    "Now I can loop through the numbers, starting from the 26th number, and calculate the list of sums for the previous 25 numbers using the above function. Then I will check if the current number is in the list of sums. If it is not, I can break the loop and print out the value, since we have found the answer."
   ]
  },
  {
   "cell_type": "code",
   "execution_count": 53,
   "metadata": {},
   "outputs": [
    {
     "name": "stdout",
     "output_type": "stream",
     "text": [
      "138879426\n"
     ]
    }
   ],
   "source": [
    "first = 0\n",
    "last = 25\n",
    "for i in range(last,len(data_list)):\n",
    "    val_list = data_list[first:i]\n",
    "    current_val = int(data_list[i])\n",
    "    sum_list = getSumList(val_list)\n",
    "    if current_val in sum_list:\n",
    "        pass\n",
    "    else:\n",
    "        print(current_val)\n",
    "        break\n",
    "    first+=1"
   ]
  },
  {
   "cell_type": "markdown",
   "metadata": {},
   "source": [
    "The answer was correct. The next part of the problem is to find a list of consecutive numbers that sum to give the target value that we found in part 1. I will do this by starting at the top of our data list and calculating the sum for the list consisting of the first two values. I then keep adding another number to the list until the sum is greater than or equal to our target.\n",
    "\n",
    "If it is equal to the target, we have found our target list. If not, I add one to the start position in the data list and repeat the process again."
   ]
  },
  {
   "cell_type": "code",
   "execution_count": 59,
   "metadata": {},
   "outputs": [],
   "source": [
    "target = current_val"
   ]
  },
  {
   "cell_type": "code",
   "execution_count": 60,
   "metadata": {},
   "outputs": [],
   "source": [
    "for i in range(len(data_list)):\n",
    "    list_tot = 0\n",
    "    j = 2\n",
    "    while list_tot<target:\n",
    "        list_vals = data_list[i:i+j]\n",
    "        list_tot = sum(list_vals)\n",
    "        j+=1\n",
    "    if (list_tot==target):\n",
    "        break\n",
    "\n",
    "    "
   ]
  },
  {
   "cell_type": "markdown",
   "metadata": {},
   "source": [
    "The list contained in list_vals at the break is the list we are looking for. The answer to part 2 is the sum of the minimum and maximum values in this list."
   ]
  },
  {
   "cell_type": "code",
   "execution_count": 61,
   "metadata": {},
   "outputs": [
    {
     "data": {
      "text/plain": [
       "23761694"
      ]
     },
     "execution_count": 61,
     "metadata": {},
     "output_type": "execute_result"
    }
   ],
   "source": [
    "min(list_vals)+max(list_vals)"
   ]
  },
  {
   "cell_type": "code",
   "execution_count": null,
   "metadata": {},
   "outputs": [],
   "source": []
  }
 ],
 "metadata": {
  "kernelspec": {
   "display_name": "Python 3",
   "language": "python",
   "name": "python3"
  },
  "language_info": {
   "codemirror_mode": {
    "name": "ipython",
    "version": 3
   },
   "file_extension": ".py",
   "mimetype": "text/x-python",
   "name": "python",
   "nbconvert_exporter": "python",
   "pygments_lexer": "ipython3",
   "version": "3.8.3"
  }
 },
 "nbformat": 4,
 "nbformat_minor": 4
}
