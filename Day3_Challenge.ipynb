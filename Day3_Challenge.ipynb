{
 "cells": [
  {
   "cell_type": "markdown",
   "metadata": {},
   "source": [
    "# Day 3 Challenge\n",
    "\n",
    "The challenge is to take a terrain map in the form of a text file. The character . represents a free space, and the character # represents a tree. We are constrained to start in the top left corner, and each subsequent move is down 1 row, and along 3 spaces. We want to ultimately determine how many trees we will encounter after traversing all rows."
   ]
  },
  {
   "cell_type": "code",
   "execution_count": 28,
   "metadata": {},
   "outputs": [],
   "source": [
    "import pandas as pd\n",
    "import numpy as np\n",
    "\n",
    "data = open(\"Day3_data.txt\", \"r\") # get the data file open\n",
    "\n",
    "data_list = data.readlines() # read all lines into a list"
   ]
  },
  {
   "cell_type": "markdown",
   "metadata": {},
   "source": [
    "We need to check both the total number of rows, and the length of a row. The problem states that the pattern repeats to infinity, so once we have reached the end of a row we effectively just go back to the start."
   ]
  },
  {
   "cell_type": "code",
   "execution_count": 29,
   "metadata": {},
   "outputs": [
    {
     "data": {
      "text/plain": [
       "323"
      ]
     },
     "execution_count": 29,
     "metadata": {},
     "output_type": "execute_result"
    }
   ],
   "source": [
    "len(data_list)"
   ]
  },
  {
   "cell_type": "code",
   "execution_count": 30,
   "metadata": {},
   "outputs": [
    {
     "name": "stdout",
     "output_type": "stream",
     "text": [
      "31\n"
     ]
    }
   ],
   "source": [
    "row_len = len(data_list[0].strip()) # .strip() method is needed to remove \\n special character from line end\n",
    "print(row_len)"
   ]
  },
  {
   "cell_type": "markdown",
   "metadata": {},
   "source": [
    "So we know that we need to reset the counter after every 31 in the count to the right. Now we can just loop through the lines and add each character to a list, and then just count the number of trees at the end."
   ]
  },
  {
   "cell_type": "code",
   "execution_count": 34,
   "metadata": {},
   "outputs": [],
   "source": [
    "pos = 0 # start position in terms of characters to the right\n",
    "pos_list = [] # empty list to hold the character for each consecutive line\n",
    "for line in data_list:\n",
    "    line = line.strip()\n",
    "    pos_list.append(line[pos]) # line[pos] is the letter in the desired position of this line\n",
    "    pos+=3\n",
    "    if (pos >= row_len): # when the position exceeds the row length, subtract the row length\n",
    "        pos=pos-row_len"
   ]
  },
  {
   "cell_type": "code",
   "execution_count": 35,
   "metadata": {},
   "outputs": [
    {
     "data": {
      "text/plain": [
       "195"
      ]
     },
     "execution_count": 35,
     "metadata": {},
     "output_type": "execute_result"
    }
   ],
   "source": [
    "pos_list.count('#') # count the number of trees in the output"
   ]
  },
  {
   "cell_type": "markdown",
   "metadata": {},
   "source": [
    "The answer was correct. \n",
    "\n",
    "# Part 2\n",
    "\n",
    "For the second part we have a selection of moves and we need to get the output each time. Therefore I will refactor the code so far as a function taking three inputs: the moves down, the moves to the right, and the list of trees and spaces."
   ]
  },
  {
   "cell_type": "code",
   "execution_count": 65,
   "metadata": {},
   "outputs": [],
   "source": [
    "def getTrees(down, right, data_list):\n",
    "    pos = 0\n",
    "    pos_list = []\n",
    "    line_num = 0                         # keep track of the line number, since we need to skip lines in the final case\n",
    "    row_len = len(data_list[0].strip())\n",
    "    for line in data_list:\n",
    "        line = line.strip()\n",
    "        if line_num%down == 0:           # new counter skips reading out rows the don't meeting the 'down' move criteria\n",
    "            pos_list.append(line[pos])\n",
    "            pos+=right                   # only increment the position after each read out\n",
    "        line_num+=1\n",
    "        if (pos >= row_len):             # subtract the row length each time the position is greater than the row length\n",
    "            pos = pos-row_len\n",
    "    ntrees = pos_list.count('#')         # count the trees in the output list\n",
    "    return ntrees"
   ]
  },
  {
   "cell_type": "markdown",
   "metadata": {},
   "source": [
    "First I will check I get the same answer given the previous parameters"
   ]
  },
  {
   "cell_type": "code",
   "execution_count": 51,
   "metadata": {},
   "outputs": [
    {
     "data": {
      "text/plain": [
       "195"
      ]
     },
     "execution_count": 51,
     "metadata": {},
     "output_type": "execute_result"
    }
   ],
   "source": [
    "getTrees(1,3,data_list)"
   ]
  },
  {
   "cell_type": "markdown",
   "metadata": {},
   "source": [
    "Now to run the function for the 5 different combinations and multiply together the results"
   ]
  },
  {
   "cell_type": "code",
   "execution_count": 66,
   "metadata": {},
   "outputs": [],
   "source": [
    "path1 = getTrees(1,1,data_list)\n",
    "path2 = getTrees(1,3,data_list)\n",
    "path3 = getTrees(1,5,data_list)\n",
    "path4 = getTrees(1,7,data_list)\n",
    "path5 = getTrees(2,1,data_list)"
   ]
  },
  {
   "cell_type": "code",
   "execution_count": 67,
   "metadata": {},
   "outputs": [
    {
     "data": {
      "text/plain": [
       "3772314000"
      ]
     },
     "execution_count": 67,
     "metadata": {},
     "output_type": "execute_result"
    }
   ],
   "source": [
    "path1*path2*path3*path4*path5"
   ]
  },
  {
   "cell_type": "markdown",
   "metadata": {},
   "source": [
    "The answer was correct. Success!"
   ]
  },
  {
   "cell_type": "code",
   "execution_count": null,
   "metadata": {},
   "outputs": [],
   "source": []
  }
 ],
 "metadata": {
  "kernelspec": {
   "display_name": "Python 3",
   "language": "python",
   "name": "python3"
  },
  "language_info": {
   "codemirror_mode": {
    "name": "ipython",
    "version": 3
   },
   "file_extension": ".py",
   "mimetype": "text/x-python",
   "name": "python",
   "nbconvert_exporter": "python",
   "pygments_lexer": "ipython3",
   "version": "3.8.3"
  }
 },
 "nbformat": 4,
 "nbformat_minor": 4
}
