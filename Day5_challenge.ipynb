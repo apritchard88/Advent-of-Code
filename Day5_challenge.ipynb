{
 "cells": [
  {
   "cell_type": "markdown",
   "metadata": {},
   "source": [
    "# Day 5 Challenge\n",
    "\n",
    "# Part 1\n",
    "\n",
    "Today's challenge involves reading in a text file, where each line represents a boarding pass used on the flight we are about to take. The boarding pass is a string, where the first 7 letters are either F or B and represent a binary code determining the row number, and the last 3 letters are either L or R and represent a binary code determining the column number.\n",
    "\n",
    "The task for part 1 is to determine the unique seat_ids from the boarding passes, and find which is the highest seat_id represented on a boarding pass."
   ]
  },
  {
   "cell_type": "code",
   "execution_count": 64,
   "metadata": {},
   "outputs": [],
   "source": [
    "import pandas as pd\n",
    "import numpy as np\n",
    "\n",
    "data = open(\"Day5_data.txt\", \"r\")"
   ]
  },
  {
   "cell_type": "markdown",
   "metadata": {},
   "source": [
    "The next step is to run through all lines in the data and convert the boarding pass string to a seat ID. We are told that the first 7 letters represent the seat row in a binary code. Here we will interpret F as 0 and B as 1, and then use the binary string to calculate the seat row.\n",
    "\n",
    "We need to also do this for the seat column, where L is a 0, and R is a 1.\n",
    "\n",
    "Python has a couple of nice methods that make this easy:\n",
    "\n",
    "* replace('F','0') will replace all values of F in a string with 0\n",
    "* int(val, 2) interprets a binary string (eg 11010) as an integer\n",
    "\n",
    "I will use these methods to calculate seat rows and columns, and use those values to calculate the seat_id (we are told the seat ID is (8 x seat_row)+seat_col"
   ]
  },
  {
   "cell_type": "code",
   "execution_count": 65,
   "metadata": {},
   "outputs": [],
   "source": [
    "seat_row = []\n",
    "seat_pos = []\n",
    "seat_id = []\n",
    "\n",
    "for line in data:\n",
    "    line = line.strip()\n",
    "    row = int(line[0:7].replace('F','0').replace('B','1'),2)\n",
    "    pos = int(line[7:].replace('R','1').replace('L','0'),2)\n",
    "    seat_row.append(row)\n",
    "    seat_pos.append(pos)\n",
    "    seat_id.append((8*row)+pos)\n",
    "    \n",
    "data.close()"
   ]
  },
  {
   "cell_type": "markdown",
   "metadata": {},
   "source": [
    "All we need now is the maximum value of seat_id"
   ]
  },
  {
   "cell_type": "code",
   "execution_count": 66,
   "metadata": {},
   "outputs": [
    {
     "data": {
      "text/plain": [
       "913"
      ]
     },
     "execution_count": 66,
     "metadata": {},
     "output_type": "execute_result"
    }
   ],
   "source": [
    "max(seat_id)"
   ]
  },
  {
   "cell_type": "markdown",
   "metadata": {},
   "source": [
    "# Part 2\n",
    "\n",
    "The second part of the question wants us to find the boarding pass that is missing from the list, which is therefore our boarding pass. Essentially we are looking for the missing value from the seat_id, since we are told our seat is not at the very front or back of the plane.\n",
    "\n",
    "The following function searches a sorted list of integers for missing values and returns them in a new list.\n",
    "\n",
    "Shamelessly stolen from https://www.geeksforgeeks.org/python-find-missing-numbers-in-a-sorted-list-range/"
   ]
  },
  {
   "cell_type": "code",
   "execution_count": 67,
   "metadata": {},
   "outputs": [],
   "source": [
    "def find_missing(lst): \n",
    "    return [x for x in range(lst[0], lst[-1]+1)  \n",
    "                               if x not in lst]"
   ]
  },
  {
   "cell_type": "code",
   "execution_count": 68,
   "metadata": {},
   "outputs": [
    {
     "data": {
      "text/plain": [
       "[717]"
      ]
     },
     "execution_count": 68,
     "metadata": {},
     "output_type": "execute_result"
    }
   ],
   "source": [
    "seat_id.sort()         # sort the list of seat_id's\n",
    "find_missing(seat_id)  # the function should return the only missing value from our list"
   ]
  },
  {
   "cell_type": "markdown",
   "metadata": {},
   "source": [
    "The value we found was the correct one. Success!"
   ]
  }
 ],
 "metadata": {
  "kernelspec": {
   "display_name": "Python 3",
   "language": "python",
   "name": "python3"
  },
  "language_info": {
   "codemirror_mode": {
    "name": "ipython",
    "version": 3
   },
   "file_extension": ".py",
   "mimetype": "text/x-python",
   "name": "python",
   "nbconvert_exporter": "python",
   "pygments_lexer": "ipython3",
   "version": "3.8.3"
  }
 },
 "nbformat": 4,
 "nbformat_minor": 4
}
