{
 "cells": [
  {
   "cell_type": "markdown",
   "metadata": {},
   "source": [
    "# Overview\n",
    "\n",
    "The challenge is to take a list of values, find the pair of values that sum to give 2020, and return the product"
   ]
  },
  {
   "cell_type": "code",
   "execution_count": 33,
   "metadata": {},
   "outputs": [
    {
     "data": {
      "text/html": [
       "<div>\n",
       "<style scoped>\n",
       "    .dataframe tbody tr th:only-of-type {\n",
       "        vertical-align: middle;\n",
       "    }\n",
       "\n",
       "    .dataframe tbody tr th {\n",
       "        vertical-align: top;\n",
       "    }\n",
       "\n",
       "    .dataframe thead th {\n",
       "        text-align: right;\n",
       "    }\n",
       "</style>\n",
       "<table border=\"1\" class=\"dataframe\">\n",
       "  <thead>\n",
       "    <tr style=\"text-align: right;\">\n",
       "      <th></th>\n",
       "      <th>0</th>\n",
       "    </tr>\n",
       "  </thead>\n",
       "  <tbody>\n",
       "    <tr>\n",
       "      <th>0</th>\n",
       "      <td>1322</td>\n",
       "    </tr>\n",
       "    <tr>\n",
       "      <th>1</th>\n",
       "      <td>1211</td>\n",
       "    </tr>\n",
       "    <tr>\n",
       "      <th>2</th>\n",
       "      <td>1427</td>\n",
       "    </tr>\n",
       "    <tr>\n",
       "      <th>3</th>\n",
       "      <td>1428</td>\n",
       "    </tr>\n",
       "    <tr>\n",
       "      <th>4</th>\n",
       "      <td>1953</td>\n",
       "    </tr>\n",
       "  </tbody>\n",
       "</table>\n",
       "</div>"
      ],
      "text/plain": [
       "      0\n",
       "0  1322\n",
       "1  1211\n",
       "2  1427\n",
       "3  1428\n",
       "4  1953"
      ]
     },
     "execution_count": 33,
     "metadata": {},
     "output_type": "execute_result"
    }
   ],
   "source": [
    "import pandas as pd\n",
    "data = pd.read_csv(\"Day1_Challenge1_data.csv\", header=None)\n",
    "data.head()"
   ]
  },
  {
   "cell_type": "code",
   "execution_count": 26,
   "metadata": {},
   "outputs": [],
   "source": [
    "vallist = list(data[0]) # we only want a list of the values"
   ]
  },
  {
   "cell_type": "code",
   "execution_count": 28,
   "metadata": {},
   "outputs": [
    {
     "name": "stdout",
     "output_type": "stream",
     "text": [
      "1983 37\n",
      "37 1983\n"
     ]
    }
   ],
   "source": [
    "for i in vallist:\n",
    "    findval = 2020-i\n",
    "    if findval in vallist:\n",
    "        print(i, findval)"
   ]
  },
  {
   "cell_type": "markdown",
   "metadata": {},
   "source": [
    "The logic works, so let's refactor the code and write a function that will take any similar list and a target value, and return the product of the 2 required values"
   ]
  },
  {
   "cell_type": "code",
   "execution_count": 49,
   "metadata": {},
   "outputs": [],
   "source": [
    "def findRequiredVals(vlist, target):\n",
    "    for i in vlist:             # for each item in the list\n",
    "        search_val = target-i   # calculate the number we need to search for (ie what makes the sum = target)\n",
    "        if search_val in vlist: # look for this value in the input list\n",
    "            return i*search_val # return the product if the value is in the input list (no need to keep looking)\n",
    "    return 0                    # return a value of 0 if no matching pair is found in the list"
   ]
  },
  {
   "cell_type": "code",
   "execution_count": 50,
   "metadata": {},
   "outputs": [
    {
     "name": "stdout",
     "output_type": "stream",
     "text": [
      "73371\n"
     ]
    }
   ],
   "source": [
    "answer1 = findRequiredVals(vallist, 2020)\n",
    "print(answer1)"
   ]
  },
  {
   "cell_type": "markdown",
   "metadata": {},
   "source": [
    "The answer was correct. The second part of the challenge is to find the 3 numbers that sum to 2020 and return the product of those. I think I can use the function I wrote in a similar way."
   ]
  },
  {
   "cell_type": "code",
   "execution_count": 51,
   "metadata": {},
   "outputs": [
    {
     "name": "stdout",
     "output_type": "stream",
     "text": [
      "127642310\n",
      "127642310\n",
      "127642310\n"
     ]
    }
   ],
   "source": [
    "for i in vallist:\n",
    "    findval1 = 2020-i\n",
    "    prod1 = findRequiredVals(vallist, findval1)\n",
    "    if prod1 > 0:\n",
    "        print(i*prod1)"
   ]
  },
  {
   "cell_type": "markdown",
   "metadata": {},
   "source": [
    "The logic seems to work again, so I'll rework it as a function"
   ]
  },
  {
   "cell_type": "code",
   "execution_count": 46,
   "metadata": {},
   "outputs": [],
   "source": [
    "def findRequiredTripleVals(vlist,target):\n",
    "    for i in vlist:                                      # for each item in the list\n",
    "        target_new = target-i                            # calculate a new target (ie the initial target - i)\n",
    "        double_prod = findRequiredVals(vlist, target_new)# use our previous function with the new target to find a number pair\n",
    "        if double_prod > 0:                              # if we found the matching pair, the function return is >0\n",
    "            return double_prod*i                         # return the product of the pair multiplied by i\n",
    "    return 0                                             # if no matching triplet of numbers found, return 0"
   ]
  },
  {
   "cell_type": "code",
   "execution_count": 52,
   "metadata": {},
   "outputs": [
    {
     "name": "stdout",
     "output_type": "stream",
     "text": [
      "127642310\n"
     ]
    }
   ],
   "source": [
    "answer2 = findRequiredTripleVals(vallist,2020)\n",
    "print(answer2)"
   ]
  },
  {
   "cell_type": "markdown",
   "metadata": {},
   "source": [
    "# Success!"
   ]
  },
  {
   "cell_type": "code",
   "execution_count": null,
   "metadata": {},
   "outputs": [],
   "source": []
  }
 ],
 "metadata": {
  "kernelspec": {
   "display_name": "Python 3",
   "language": "python",
   "name": "python3"
  },
  "language_info": {
   "codemirror_mode": {
    "name": "ipython",
    "version": 3
   },
   "file_extension": ".py",
   "mimetype": "text/x-python",
   "name": "python",
   "nbconvert_exporter": "python",
   "pygments_lexer": "ipython3",
   "version": "3.8.3"
  }
 },
 "nbformat": 4,
 "nbformat_minor": 4
}
